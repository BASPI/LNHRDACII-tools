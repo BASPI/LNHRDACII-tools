{
 "cells": [
  {
   "cell_type": "markdown",
   "metadata": {},
   "source": [
    "# Example on how to create an adaptive fast 2D-scan, using the Basel Precision Instruments LNHR DAC II Telnet module\n",
    "\n",
    "Copyright (c) Basel Precision Instruments GmbH (2024)\n",
    "\n",
    "...............................................................................................................\n",
    "\n",
    "\n",
    "The LNHR DAC II is by default equipped with all the necessary functions to perform a fast adaptive 2D-scan. In a typical fast adaptive 2D-scan scenario, two outputs of the LNHR DAC II are used to create the x-axis and y-axis signals and a third output is used to create a trigger signal, that can be used to trigger the data acquisition to measure evry point in the 2D-scan.\n",
    "\n",
    "The faster y-axis signal is created using an AWG, the slower x-axis signal is created using a Ramp/Step-Generator of the LNHR DAC II. The x-axis gets automatically updated internally, after each fast y-axis cycle. The trigger signal is created using a secon AWG of the LNHR DAC II."
   ]
  },
  {
   "cell_type": "markdown",
   "metadata": {},
   "source": [
    "## 1 - imports and setup\n",
    "For this example the Basel Precision Instruments LNHR DAC II Telnet driver is used (available on Github)."
   ]
  },
  {
   "cell_type": "code",
   "execution_count": 30,
   "metadata": {},
   "outputs": [
    {
     "name": "stdout",
     "output_type": "stream",
     "text": [
      "Connected to DAC (192.168.0.5) successfully. The current status of all channels is shown below (channel 1; channel 2; ... ):\n",
      "OFF;OFF;OFF;OFF;OFF;OFF;OFF;OFF;OFF;OFF;OFF;OFF;OFF;OFF;OFF;OFF;OFF;OFF;OFF;OFF;OFF;OFF;OFF;OFF\n",
      "\n"
     ]
    }
   ],
   "source": [
    "from telnet import LNHRDAC\n",
    "\n",
    "# create an instance of the LNHR DAC device\n",
    "DAC = LNHRDAC(\"192.168.0.5\", 23)"
   ]
  },
  {
   "cell_type": "markdown",
   "metadata": {},
   "source": [
    "## 2 - define parameters for the 2D-scan\n",
    "To simplify the setup process of the 2D-scan, a few parameters are defined here, from which the actual DAC parameters are derived from:\n",
    "\n",
    "- **x_steps**: number of steps on the slower x-axis (int)\n",
    "- **x_start_voltage**: voltage at which the slower x-axis starts a sweep (float)\n",
    "- **x_stop-voltage**: voltage at which the slower x-axis stops a sweep (float)\n",
    "- **y_steps**: number of steps on the faster y-axis (int)\n",
    "- **y_start_voltage**: voltage at which the faster y-axis starts a sweep (float)\n",
    "- **y_stop-voltage**: voltage at which the faster y-axis stops a sweep (float)\n",
    "- **acquisition_delay**: time the data acquisition needs to measure the signal in ms (milli-seconds) or \"duration of a point\" (float)\n",
    "- **adaptive_shift**: voltage shift after each fast sweep of the y-axis\n"
   ]
  },
  {
   "cell_type": "code",
   "execution_count": 65,
   "metadata": {},
   "outputs": [],
   "source": [
    "x_steps = 10\n",
    "x_start_voltage = 0.0\n",
    "x_stop_voltage = 1.0\n",
    "y_steps = 10\n",
    "y_start_voltage = 0.0\n",
    "y_stop_voltage = 1.0\n",
    "acquisition_delay = 10\n",
    "adaptive_shift = 0.1"
   ]
  },
  {
   "cell_type": "markdown",
   "metadata": {},
   "source": [
    "## 3 - choose DAC channels for x- and y-axis\n",
    "The output for the x- and y-axis can be selected freely, as long as both outputs are on the same DAC-Board (channels 1 - 12 or 13 - 24). For this example the AWG-A and RAMP-A generators are used."
   ]
  },
  {
   "cell_type": "code",
   "execution_count": 66,
   "metadata": {},
   "outputs": [],
   "source": [
    "# define the DAC channels which will be used as outputs\n",
    "output_x = 1\n",
    "output_y = 2\n",
    "\n",
    "# check availability of the AWG-A and RAMP-A, set auxiliary variables\n",
    "if DAC.expect_query_answer(\"c awg-a ava?\", \"1\") and DAC.expect_query_answer(\"c rmp-a ava?\", \"1\"):\n",
    "    pass\n",
    "else:\n",
    "    raise Exception(\"AWG resources not available\")\n",
    "\n",
    "awg_output = \"a\"\n",
    "memory = 0\n",
    "board = \"ab\""
   ]
  },
  {
   "cell_type": "markdown",
   "metadata": {},
   "source": [
    "## 4 - setup x-axis\n",
    "The LNHR DAC II must be configured to automatically update the slower x-axis signal using the before chosen ramp generator."
   ]
  },
  {
   "cell_type": "code",
   "execution_count": 67,
   "metadata": {},
   "outputs": [],
   "source": [
    "# calculate the internally used parameter\n",
    "ramp_time = 0.005 * (x_steps + 1)\n",
    "\n",
    "DAC.send_command(f\"c rmp-{awg_output} ch {output_x}\") # ramp selected DAC-channel\n",
    "DAC.send_command(f\"c rmp-{awg_output} stav {x_start_voltage: .6f}\") # ramp start voltage\n",
    "DAC.send_command(f\"c rmp-{awg_output} stov {x_stop_voltage: .6f}\") # ramp stop voltage\n",
    "DAC.send_command(f\"c rmp-{awg_output} rt {ramp_time: .3f}\") # ramp time\n",
    "DAC.send_command(f\"c rmp-{awg_output} rs 0\") # ramp shape\n",
    "DAC.send_command(f\"c rmp-{awg_output} cs 1\") # ramp cycles set\n",
    "DAC.send_command(f\"c rmp-{awg_output} step 1\") # ramp/step selection"
   ]
  },
  {
   "cell_type": "markdown",
   "metadata": {},
   "source": [
    "## 5 - setup y-axis\n",
    "The y-axis signal is generated using an AWG of the LNHR DAC II.\n",
    "\n",
    "### 5.1 - Configuring the AWG\n",
    "The before chosen AWG-A is configured to the correct update rate. It must be checked, that the minimum AWG duration is at least 6 ms."
   ]
  },
  {
   "cell_type": "code",
   "execution_count": 68,
   "metadata": {},
   "outputs": [],
   "source": [
    "# calculate the internally used parameters\n",
    "clock_period = int(acquisition_delay * 1000)\n",
    "frequency = 1.0 / (y_steps * (0.000001 * clock_period))\n",
    "amplitude = y_stop_voltage - y_start_voltage\n",
    "offset = y_start_voltage\n",
    "\n",
    "# check minimum AWG duration\n",
    "if (1.0 / frequency) < 0.006:\n",
    "    raise Exception(\"Y axis: clock period too short or not enough steps\")\n",
    "\n",
    "# configure AWG\n",
    "DAC.send_command(f\"c awg-{awg_output} ch {output_y}\") # awg selected DAC-channel\n",
    "DAC.send_command(f\"c awg-{awg_output} cs 1\") # awg cycles set\n",
    "DAC.send_command(f\"c awg-{awg_output} tm 0\") # awg external trigger\n",
    "DAC.send_command(f\"c awg-{board} cp {clock_period}\") # clock period\n",
    "DAC.send_command(f\"c swg aclk 0\") # adaptive clock period"
   ]
  },
  {
   "cell_type": "markdown",
   "metadata": {},
   "source": [
    "### 5.2 - standard waveform generation\n",
    "The internal Standard Waveform Generator (SWG) is used to create the fast y-axis signal. It is configured to generate a ramp. It can also be used to generate simple standard waveforms for other applications."
   ]
  },
  {
   "cell_type": "code",
   "execution_count": 69,
   "metadata": {},
   "outputs": [],
   "source": [
    "DAC.send_command(f\"c swg mode 0\") # swg mode (generate new/ use old)\n",
    "DAC.send_command(f\"c swg wf 3\") # swg function\n",
    "DAC.send_command(f\"c swg df {frequency: .3f}\") # swg frequency\n",
    "DAC.send_command(f\"c swg amp {amplitude: .6f}\") #swg amplitude\n",
    "DAC.send_command(f\"c swg dcv {offset: .6f}\") # swg offset\n",
    "DAC.send_command(f\"c swg pha 0.0000\") # swg phase\n",
    "DAC.send_command(f\"c swg wmem {memory}\") # selected wave memory\n",
    "DAC.send_command(f\"c swg wfun 2\") # selected wave memory operation"
   ]
  },
  {
   "cell_type": "markdown",
   "metadata": {},
   "source": [
    "## 5.3 - write the generated waveform to the AWG\n",
    "The before created waveform must be saved to the wave memory before it can be transferred to the AWG memory."
   ]
  },
  {
   "cell_type": "code",
   "execution_count": 70,
   "metadata": {},
   "outputs": [],
   "source": [
    "DAC.send_command(f\"c wav-{awg_output} clr\") # clear wave memory\n",
    "DAC.send_command(f\"c swg apply\") # apply swg to wave memory\n",
    "while DAC.expect_query_answer(f\"c wav-{awg_output} busy?\", \"1\"): # check if writing to memory is done\n",
    "    pass\n",
    "last_mem_adr = DAC.send_query(f\"c wav-{awg_output} ms?\") # get wave memory address\n",
    "last_mem_adr = int(last_mem_adr)\n",
    "DAC.send_command(f\"wav-{awg_output} {last_mem_adr: x} {y_start_voltage: .6f}\") # set last step to start value\n",
    "DAC.send_command(f\"c wav-{awg_output} write\") # write wave memory to awg memory\n",
    "while DAC.expect_query_answer(f\"c wav-{awg_output} busy?\", \"1\"): # check if writing to memory is done\n",
    "    pass"
   ]
  },
  {
   "cell_type": "markdown",
   "metadata": {},
   "source": [
    "## 6 - setup the adaptive shift\n",
    "A linear adaptive shift is executed when the parameter `adaptive_shift` is not zero. After each fast y-axis cycle, the start and stop voltage for the next cycle are shifted by the defined voltage. "
   ]
  },
  {
   "cell_type": "code",
   "execution_count": 71,
   "metadata": {},
   "outputs": [],
   "source": [
    "adaptive_scan = 1 if adaptive_shift > 0.0 else 0\n",
    "\n",
    "DAC.send_command(f\"c awg-{awg_output} as 1\") # normal/ auto start awg\n",
    "DAC.send_command(f\"c awg-{awg_output} rld {adaptive_scan}\") # keep/reload awg memory\n",
    "DAC.send_command(f\"c awg-{awg_output} ap {adaptive_scan}\") #apply/skip polynomial\n",
    "DAC.send_command(f\"c awg-{awg_output} shiv {adaptive_shift: .6f}\") # adaptive shift voltage"
   ]
  },
  {
   "cell_type": "markdown",
   "metadata": {},
   "source": [
    "## 7 - setup trigger for data acquisition\n",
    "To set the trigger output up, the same steps as for creating the y-axis signal are repeated, since both use an AWG of the LNHR DAC II. Instead of a ramp this time a rectangular signal is created. \n",
    "\n",
    "**Caution:** The trigger needs a different time base (clock period) than both axes. Therefore it is not possible to have the trigger output on the same DAC-Board as the axes. Additionally it is necessary to connect the `SYNC OUT AWG` signal from the fast y-axis (in this example `SYNC OUT AWG A`) to the `TRIG IN AWG` input of the data acquisition trigger signal (in this example `TRIG IN AWG C`). Those are physical connections on the backside of the LNHR DAC II. This synchronizes the trigger signal for the data aqcuisition to the y-axis signal."
   ]
  },
  {
   "cell_type": "code",
   "execution_count": 72,
   "metadata": {},
   "outputs": [],
   "source": [
    "# define the DAC channel which will be used as output\n",
    "output_daq_trigger = 13\n",
    "\n",
    "# check availability of the AWG-C and RAMP-C, set auxiliary variables\n",
    "if DAC.expect_query_answer(\"c awg-c ava?\", \"1\") and DAC.expect_query_answer(\"c rmp-c ava?\", \"1\"):\n",
    "    awg_trigger = \"c\"\n",
    "    memory = 2\n",
    "    \n",
    "# configure AWG\n",
    "DAC.send_command(f\"c awg-{awg_trigger} ch {output_daq_trigger}\") # awg selected DAC-channel\n",
    "DAC.send_command(f\"c awg-{awg_trigger} cs {y_steps}\") # awg cycles set\n",
    "DAC.send_command(f\"c awg-{awg_trigger} tm 1\") # awg external trigger\n",
    "DAC.send_command(f\"c swg aclk 1\") # adaptive clock period\n",
    "\n",
    "# create rectangular signal using the SWG\n",
    "DAC.send_command(f\"c swg mode 0\") # swg mode (generate new/ use old)\n",
    "DAC.send_command(f\"c swg wf 4\") # swg function\n",
    "DAC.send_command(f\"c swg df {1/(clock_period*0.000001): .6f}\") # swg frequency\n",
    "DAC.send_command(f\"c swg amp 2.500000\") #swg amplitude\n",
    "DAC.send_command(f\"c swg dcv 2.500000\") # swg offset\n",
    "DAC.send_command(f\"c swg pha 0.0000\") # swg phase\n",
    "DAC.send_command(f\"c swg duc 50.000\") # swg duty cycle\n",
    "DAC.send_command(f\"c swg wmem {memory}\") # selected wave memory\n",
    "DAC.send_command(f\"c swg wfun 2\") # selected wave memory operation\n",
    "\n",
    "# write signal to wave memory and AWG memory afterwards\n",
    "DAC.send_command(f\"c wav-{awg_trigger} clr\") # clear wave memory\n",
    "DAC.send_command(f\"c swg apply\") # apply swg to wave memory\n",
    "while DAC.expect_query_answer(f\"c wav-{awg_trigger} busy?\", \"1\"): # check if writing to memory is done\n",
    "    pass\n",
    "DAC.send_command(f\"c wav-{awg_trigger} write\") # write wave memory to awg memory\n",
    "while DAC.expect_query_answer(f\"c wav-{awg_trigger} busy?\", \"1\"): # check if writing to memory is done\n",
    "    pass"
   ]
  },
  {
   "cell_type": "markdown",
   "metadata": {},
   "source": [
    "## 8 - prepare outputs and start 2D-scan\n",
    "Before the 2D-scan can be started, the used outputs should be set to the assigned starting voltages. Additionally the Bandwidth should be set and the outputs should be turned on.\n",
    "\n",
    "To start the 2D-scan, simply start the first cycle of the y-axis signal. If everything is configured correctly, the rest should happen fully automatic."
   ]
  },
  {
   "cell_type": "code",
   "execution_count": 74,
   "metadata": {},
   "outputs": [],
   "source": [
    "# set starting voltages\n",
    "DAC.send_command(f\"{output_x} {int((float(x_start_voltage) + 10.000000) * 838860.74): x}\")\n",
    "DAC.send_command(f\"{output_y} {int((float(y_start_voltage) + 10.000000) * 838860.74): x}\")\n",
    "\n",
    "# set bandwidth\n",
    "DAC.send_command(f\"{output_x} hbw\")\n",
    "DAC.send_command(f\"{output_y} hbw\")\n",
    "DAC.send_command(f\"{output_daq_trigger} hbw\")\n",
    "\n",
    "# turn on outputs\n",
    "DAC.send_command(f\"{output_x} on\")\n",
    "DAC.send_command(f\"{output_y} on\")\n",
    "DAC.send_command(f\"{output_daq_trigger} on\")\n",
    "\n",
    "# start 2D-scan\n",
    "DAC.send_command(f\"c awg-{awg_output} start\")"
   ]
  },
  {
   "cell_type": "markdown",
   "metadata": {},
   "source": [
    "## 9 - restart or change parameters of the 2D-scan\n",
    "It is recommended to turn all used outputs off and stop all AWGs and ramp generators before the 2D-scan is restarted or any parameters are changed."
   ]
  },
  {
   "cell_type": "code",
   "execution_count": 60,
   "metadata": {},
   "outputs": [],
   "source": [
    "#  turn off outputs\n",
    "DAC.send_command(f\"{output_x} off\")\n",
    "DAC.send_command(f\"{output_y} off\")\n",
    "DAC.send_command(f\"{output_daq_trigger} off\")\n",
    "\n",
    "# stop AWGs and RAMPs\n",
    "DAC.send_command(f\"c awg-{awg_output} stop\")\n",
    "DAC.send_command(f\"c rmp-{awg_output} stop\")\n",
    "DAC.send_command(f\"c awg-{awg_trigger} stop\")"
   ]
  }
 ],
 "metadata": {
  "kernelspec": {
   "display_name": "Python 3",
   "language": "python",
   "name": "python3"
  },
  "language_info": {
   "codemirror_mode": {
    "name": "ipython",
    "version": 3
   },
   "file_extension": ".py",
   "mimetype": "text/x-python",
   "name": "python",
   "nbconvert_exporter": "python",
   "pygments_lexer": "ipython3",
   "version": "3.12.3"
  }
 },
 "nbformat": 4,
 "nbformat_minor": 2
}
