{
 "cells": [
  {
   "cell_type": "markdown",
   "metadata": {},
   "source": [
    "# Example on how to create a fast 2D-scan, using the Basel Precision Instruments LNHR DAC II Telnet module\n",
    "\n",
    "Copyright (c) Basel Precision Instruments GmbH (2024)"
   ]
  },
  {
   "cell_type": "markdown",
   "metadata": {},
   "source": [
    "## imports and setup"
   ]
  },
  {
   "cell_type": "code",
   "execution_count": null,
   "metadata": {},
   "outputs": [],
   "source": [
    "from telnet import LNHRDAC\n",
    "\n",
    "# create an instance of the LNHR DAC device\n",
    "DAC = LNHRDAC(\"192.168.0.5\", 23)"
   ]
  },
  {
   "cell_type": "markdown",
   "metadata": {},
   "source": [
    "## define parameters for the 2D-scan\n",
    "\n",
    "- x_steps: number of steps on the slower x-axis (int)\n",
    "- x_start_voltage: voltage at which the slower x-axis starts a sweep (float)\n",
    "- x_stop-voltage: voltage at which the slower x-axis stops a sweep (float)\n",
    "- y_steps: number of steps on the faster y-axis (int)\n",
    "- y_start_voltage: voltage at which the faster y-axis starts a sweep (float)\n",
    "- y_stop-voltage: voltage at which the faster y-axis stops a sweep (float)\n",
    "- output_x: DAC channel which will generate the x-axis signal (int)\n",
    "- output_y: DAC channel which will generate the y-axis signal (int)"
   ]
  },
  {
   "cell_type": "code",
   "execution_count": null,
   "metadata": {},
   "outputs": [],
   "source": [
    "x_steps = 100 #: int,   \n",
    "x_start_voltage = 0.0 #: float, \n",
    "x_stop_voltage = 1.0 #: float, \n",
    "y_steps = 1000 #: int,\n",
    "y_start_voltage = 0.0 #: float, \n",
    "y_stop_voltage = 1.0 #: float,\n",
    "output_x = 1 #: int, \n",
    "output_y = 2 #: int,\n",
    "output_daq_trigger = 13#: int,\n",
    "acquisition_delay = 0.1 #: float,\n",
    "adaptive_shift = 0.0 #: float = 0.000000"
   ]
  }
 ],
 "metadata": {
  "kernelspec": {
   "display_name": "Python 3",
   "language": "python",
   "name": "python3"
  },
  "language_info": {
   "name": "python",
   "version": "3.12.3"
  }
 },
 "nbformat": 4,
 "nbformat_minor": 2
}
