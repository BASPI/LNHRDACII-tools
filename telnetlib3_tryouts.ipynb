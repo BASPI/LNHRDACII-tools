{
 "cells": [
  {
   "cell_type": "code",
   "execution_count": null,
   "metadata": {},
   "outputs": [],
   "source": [
    "import telnet3\n",
    "\n",
    "async def test_connection():\n",
    "    dac = telnet3.LNHRDAC(\"192.168.0.5\", 23)  # Update port if needed\n",
    "    # Send commands asynchronously \n",
    "    # Set Device channel 1 to 1 volt\n",
    "    await dac.send_command(\"1 8CCCCC\")  \n",
    "    await dac.send_command(\"1 on\")  \n",
    "    # Set multiple channels (2-5) to -2.5 volts\n",
    "    for channel in range(2, 6):  # Range should be (2, 6) to include channel 5\n",
    "        await dac.send_command(f\"{channel} 600000\")  \n",
    "        await dac.send_command(f\"{channel} lbw\")  \n",
    "        await dac.send_command(f\"{channel} on\")  \n",
    "    await dac.disconnect()  # Ensure we properly close the connection\n",
    "    success = await dac.connect()\n",
    "    if success:\n",
    "        print(\"✅ Connected successfully!\")\n",
    "    else:\n",
    "        print(\"❌ Connection failed.\")\n",
    "\n",
    "    await dac.disconnect()\n",
    "\n",
    "await test_connection()\n"
   ]
  },
  {
   "cell_type": "code",
   "execution_count": null,
   "metadata": {},
   "outputs": [],
   "source": [
    "dac = telnet3.LNHRDAC(\"192.168.0.5\", 23)  # Update port if needed\n",
    "# Send commands asynchronously\n",
    "await dac.send_command(\"all off\")  \n",
    "# Set Device channel 1 to 1 volt\n",
    "await dac.send_command(\"1 8CCCCC\")  \n",
    "await dac.send_command(\"1 on\")  \n",
    "# Set multiple channels (2-5) to -2.5 volts\n",
    "for channel in range(2, 6):  # Range should be (2, 6) to include channel 5\n",
    "    await dac.send_command(f\"{channel} 600000\")  \n",
    "    await dac.send_command(f\"{channel} lbw\")  \n",
    "    await dac.send_command(f\"{channel} on\")  \n",
    "await dac.disconnect()  # Ensure we properly close the connection"
   ]
  }
 ],
 "metadata": {
  "kernelspec": {
   "display_name": "Python 3",
   "language": "python",
   "name": "python3"
  },
  "language_info": {
   "codemirror_mode": {
    "name": "ipython",
    "version": 3
   },
   "file_extension": ".py",
   "mimetype": "text/x-python",
   "name": "python",
   "nbconvert_exporter": "python",
   "pygments_lexer": "ipython3",
   "version": "3.13.2"
  }
 },
 "nbformat": 4,
 "nbformat_minor": 2
}
