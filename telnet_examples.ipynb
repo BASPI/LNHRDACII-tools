{
 "cells": [
  {
   "cell_type": "markdown",
   "metadata": {},
   "source": [
    "# Examples on using the Basel Precision Instruments LNHR DAC II Telnet module\n",
    "\n",
    "Copyright (c) Basel Precision Instruments GmbH (2024)"
   ]
  },
  {
   "cell_type": "markdown",
   "metadata": {},
   "source": [
    "## imports and setup"
   ]
  },
  {
   "cell_type": "code",
   "execution_count": 1,
   "metadata": {},
   "outputs": [
    {
     "name": "stdout",
     "output_type": "stream",
     "text": [
      "Connected to DAC (192.168.0.5) successfully. The current status of all channels is shown below (channel 1; channel 2; ... ):\n",
      "OFF;OFF;OFF;OFF;OFF;OFF;OFF;OFF;OFF;OFF;OFF;OFF;OFF;OFF;OFF;OFF;OFF;OFF;OFF;OFF;OFF;OFF;OFF;OFF\n",
      "\n"
     ]
    }
   ],
   "source": [
    "import telnet\n",
    "\n",
    "# only used for a custom made waveform\n",
    "from math import sin\n",
    "from math import cos\n",
    "\n",
    "# create an instance of the LNHR DAC device\n",
    "DAC = telnet.LNHRDAC(\"192.168.0.5\",23)"
   ]
  },
  {
   "cell_type": "markdown",
   "metadata": {},
   "source": [
    "## set a DC voltage on a channel"
   ]
  },
  {
   "cell_type": "code",
   "execution_count": 2,
   "metadata": {},
   "outputs": [
    {
     "ename": "KeyError",
     "evalue": "'Error occured: send_command(\"all off\") could not be processed by LNHR DAC, DAC answered: b\\'\\''",
     "output_type": "error",
     "traceback": [
      "\u001b[1;31m---------------------------------------------------------------------------\u001b[0m",
      "\u001b[1;31mKeyError\u001b[0m                                  Traceback (most recent call last)",
      "Cell \u001b[1;32mIn[2], line 1\u001b[0m\n\u001b[1;32m----> 1\u001b[0m \u001b[43mDAC\u001b[49m\u001b[38;5;241;43m.\u001b[39;49m\u001b[43msend_command\u001b[49m\u001b[43m(\u001b[49m\u001b[38;5;124;43m\"\u001b[39;49m\u001b[38;5;124;43mall off\u001b[39;49m\u001b[38;5;124;43m\"\u001b[39;49m\u001b[43m)\u001b[49m\n\u001b[0;32m      3\u001b[0m \u001b[38;5;66;03m# set DAC channel 1 to 1 volt\u001b[39;00m\n\u001b[0;32m      4\u001b[0m DAC\u001b[38;5;241m.\u001b[39msend_command(\u001b[38;5;124m\"\u001b[39m\u001b[38;5;124m1 8CCCCC\u001b[39m\u001b[38;5;124m\"\u001b[39m) \n",
      "File \u001b[1;32mc:\\Users\\Jan\\Documents\\GitHub\\LNHRDACII-tools\\telnet.py:166\u001b[0m, in \u001b[0;36mLNHRDAC.send_command\u001b[1;34m(self, command, hold_connection)\u001b[0m\n\u001b[0;32m    164\u001b[0m \u001b[38;5;28;01melse\u001b[39;00m:\n\u001b[0;32m    165\u001b[0m     \u001b[38;5;28mself\u001b[39m\u001b[38;5;241m.\u001b[39m_disconnect_from_DAC(hold_connection)\n\u001b[1;32m--> 166\u001b[0m     \u001b[38;5;28;01mraise\u001b[39;00m \u001b[38;5;167;01mKeyError\u001b[39;00m(\u001b[38;5;124m\"\u001b[39m\u001b[38;5;124mError occured: send_command\u001b[39m\u001b[38;5;124m\"\u001b[39m\n\u001b[0;32m    167\u001b[0m                     \u001b[38;5;241m+\u001b[39m \u001b[38;5;124mf\u001b[39m\u001b[38;5;124m\"\u001b[39m\u001b[38;5;124m(\u001b[39m\u001b[38;5;130;01m\\\"\u001b[39;00m\u001b[38;5;132;01m{\u001b[39;00mcommand\u001b[38;5;132;01m}\u001b[39;00m\u001b[38;5;130;01m\\\"\u001b[39;00m\u001b[38;5;124m) could not be \u001b[39m\u001b[38;5;124m\"\u001b[39m\n\u001b[0;32m    168\u001b[0m                     \u001b[38;5;241m+\u001b[39m \u001b[38;5;124m\"\u001b[39m\u001b[38;5;124mprocessed by LNHR DAC, \u001b[39m\u001b[38;5;124m\"\u001b[39m\n\u001b[0;32m    169\u001b[0m                     \u001b[38;5;241m+\u001b[39m \u001b[38;5;124mf\u001b[39m\u001b[38;5;124m\"\u001b[39m\u001b[38;5;124mDAC answered: \u001b[39m\u001b[38;5;132;01m{\u001b[39;00mans\u001b[38;5;132;01m}\u001b[39;00m\u001b[38;5;124m\"\u001b[39m)\n",
      "\u001b[1;31mKeyError\u001b[0m: 'Error occured: send_command(\"all off\") could not be processed by LNHR DAC, DAC answered: b\\'\\''"
     ]
    }
   ],
   "source": [
    "DAC.send_command(\"all off\")\n",
    "\n",
    "# set DAC channel 1 to 1 volt\n",
    "DAC.send_command(\"1 8CCCCC\") \n",
    "DAC.send_command(\"1 on\")\n",
    "\n",
    "# set multiple channels (2-6) to -2.5 volts\n",
    "for channel in range(2, 5):\n",
    "    DAC.send_command(f\"{channel} 600000\")\n",
    "    DAC.send_command(f\"{channel} on\")"
   ]
  },
  {
   "cell_type": "markdown",
   "metadata": {},
   "source": [
    "## create a standard waveform with the integrated standard waveform generator"
   ]
  },
  {
   "cell_type": "code",
   "execution_count": 6,
   "metadata": {},
   "outputs": [
    {
     "name": "stdout",
     "output_type": "stream",
     "text": [
      "writing to memory ..."
     ]
    }
   ],
   "source": [
    "# create a simple sinewave on channel 13\n",
    "DAC.send_command(\"13 off\")\n",
    "DAC.send_command(\"c awg-c stop\")\n",
    "\n",
    "while DAC.expect_query_answer(\"c awg-c ava?\", \"0\"): # wait for availability of awg-c \n",
    "    pass\n",
    "\n",
    "DAC.send_command(\"c awg-c ch 13\") # select channel for awg\n",
    "DAC.send_command(\"c swg mode 0\") # generate new waveform\n",
    "DAC.send_command(\"c swg wf 0\") # choose waveform (0 = sine)\n",
    "# further properties of waveform could be specified here, i.e. amplitude, offset or phase\n",
    "DAC.send_command(\"c swg wmem 2\") # select wave-memory to save the generated waveform into\n",
    "DAC.send_command(\"c awg-c cs 0\") # set number of cycles (0 = infinite cycles)\n",
    "DAC.send_command(\"c swg wfun 0\") # generated waveform will be copied to the selected wave-memory\n",
    "DAC.send_command(\"c swg apply\") # apply all changes to wave-memory now\n",
    "DAC.send_command(\"c wav-c write\") # write content of wave-memory into awg memory\n",
    "\n",
    "print(\"writing to memory ...\", end=\"\")\n",
    "while DAC.expect_query_answer(\"c wav-c busy?\", \"1\"): # wait until waveform is written into awg memory\n",
    "    print(\".\", end=\"\")\n",
    "\n",
    "DAC.send_command(\"c awg-c start\") # start awg\n",
    "DAC.send_command(\"13 on\") #turn channel on"
   ]
  },
  {
   "cell_type": "markdown",
   "metadata": {},
   "source": [
    "## create a custom waveform using mathematical functions"
   ]
  },
  {
   "cell_type": "code",
   "execution_count": 10,
   "metadata": {},
   "outputs": [
    {
     "name": "stdout",
     "output_type": "stream",
     "text": [
      "generating waveform .......................................................................................................................................................................................................................................................................................................................................................writing to memory ..."
     ]
    }
   ],
   "source": [
    "# create a custom waveform on channel 17\n",
    "DAC.send_command(\"17 off\")\n",
    "DAC.send_command(\"c awg-d stop\")\n",
    "\n",
    "while DAC.expect_query_answer(\"c awg-d ava?\", \"0\"): # wait for availability of awg-c \n",
    "    pass\n",
    "\n",
    "DAC.send_command(\"c awg-d ch 17\") # select channel for awg\n",
    "DAC.send_command(\"c awg-d cs 0\") # set number of cycles (0 = infinite cycles)\n",
    "DAC.send_command(\"c wav-d clr\") # clear wavememory\n",
    "\n",
    "print(\"generating waveform ...\", end=\"\")\n",
    "for x in range(0, 34000):\n",
    "     y = 3*sin(x/200) + 2*cos(0.03*x) + (8/7)*sin(x/100) + 3.7*cos(x/10000) # generating arbitrary curve\n",
    "     DAC.send_command(f\"wav-a {x:x} {y:.6f}\", hold_connection=True) # transmitting datapoints as voltage to DAC\n",
    "     if x % 100 == 0: print(\".\", end=\"\")\n",
    "print(\"\\n\")\n",
    "\n",
    "DAC.send_command(\"c wav-d write\") # write content of wave-memory into awg memory\n",
    "\n",
    "print(\"writing to memory ...\", end=\"\")\n",
    "while DAC.expect_query_answer(\"c wav-c busy?\", \"1\"): # wait until waveform is written into awg memory\n",
    "    print(\".\", end=\"\")\n",
    "\n",
    "DAC.send_command(\"c awg-cd cp 1000\") # set clock period, this might interfere with other awg's\n",
    "DAC.send_command(\"c awg-d start\") # start awg\n",
    "DAC.send_command(\"17 on\") #turn channel on"
   ]
  }
 ],
 "metadata": {
  "kernelspec": {
   "display_name": "Python 3",
   "language": "python",
   "name": "python3"
  },
  "language_info": {
   "codemirror_mode": {
    "name": "ipython",
    "version": 3
   },
   "file_extension": ".py",
   "mimetype": "text/x-python",
   "name": "python",
   "nbconvert_exporter": "python",
   "pygments_lexer": "ipython3",
   "version": "3.12.3"
  }
 },
 "nbformat": 4,
 "nbformat_minor": 2
}
