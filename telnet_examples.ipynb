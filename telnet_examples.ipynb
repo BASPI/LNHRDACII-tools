{
 "cells": [
  {
   "cell_type": "markdown",
   "metadata": {},
   "source": [
    "# Examples on using the Basel Precision Instruments LNHR DAC II Telnet module\n",
    "\n",
    "Copyright (c) Basel Precision Instruments GmbH (2024)\n",
    "\n",
    "................................................................................................................\n",
    "\n",
    "The LNHR DAC II provides a wide set of commands to get the most out of the device."
   ]
  },
  {
   "cell_type": "markdown",
   "metadata": {},
   "source": [
    "## 1 - imports and setup\n",
    "For this example the Basel Precision Instruments LNHR DAC II Telnet driver is used (available on Github)."
   ]
  },
  {
   "cell_type": "code",
   "execution_count": null,
   "metadata": {},
   "outputs": [],
   "source": [
    "import telnet\n",
    "\n",
    "# only used for a custom made waveform\n",
    "from math import sin\n",
    "from math import cos\n",
    "\n",
    "# create an instance of the LNHR DAC device\n",
    "DAC = telnet.LNHRDAC(\"192.168.0.5\",23)"
   ]
  },
  {
   "cell_type": "markdown",
   "metadata": {},
   "source": [
    "## 2 - set a DC voltage on a channel\n",
    "The simplest form of controlling the LNHR DAC II is setting the outputs manually in a python script to a DC voltage. For best noise performance, the low bandwith should be chosen."
   ]
  },
  {
   "cell_type": "code",
   "execution_count": null,
   "metadata": {},
   "outputs": [],
   "source": [
    "DAC.send_command(\"all off\")\n",
    "\n",
    "# set DAC channel 1 to 1 volt\n",
    "DAC.send_command(\"1 8CCCCC\") \n",
    "DAC.send_command(\"1 on\")\n",
    "\n",
    "# set multiple channels (2-6) to -2.5 volts\n",
    "for channel in range(2, 5):\n",
    "    DAC.send_command(f\"{channel} 600000\")\n",
    "    DAC.send_command(f\"{channel} lbw\")\n",
    "    DAC.send_command(f\"{channel} on\")"
   ]
  },
  {
   "cell_type": "markdown",
   "metadata": {},
   "source": [
    "## 3 - update all channels simultaneously\n",
    "\n",
    "The DAC has a synchronous update function, whith which all channels can be set to independent DC voltages at the same time. This update can be triggered by software or hardware."
   ]
  },
  {
   "cell_type": "code",
   "execution_count": null,
   "metadata": {},
   "outputs": [],
   "source": [
    "# change update mode to synchronous\n",
    "DAC.send_command(\"c um-l 1\")\n",
    "\n",
    "# assign voltages to outputs\n",
    "DAC.send_command(\"1 80F000;2 6FFFFF;3 80F000;4 6FFFFF;5 80F000;6 6FFFFF;7 80F000;8 6FFFFF;9 80F000;10 6FFFFF;11 80F000;12 6FFFFF\")\n",
    "\n",
    "# turn channels on\n",
    "DAC.send_command(\"all on\")\n",
    "\n",
    "# apply voltages to outputs\n",
    "DAC.send_command(\"c sync-l\")"
   ]
  },
  {
   "cell_type": "markdown",
   "metadata": {},
   "source": [
    "## 3 - create a standard waveform with the integrated standard waveform generator\n",
    "Manually setting DC voltages will neither yield nice looking waveforms nor can the results be replicated easily. \n",
    "\n",
    "For standard waveforms the LNHR DAC II therefore provides a set of commands to easily create well defined waveforms:\n",
    "- Sine, phaseshift and DC offset applicable\n",
    "- Triangular, phaseshift and DC offset applicable\n",
    "- Sawtooth, phaseshift and DC offset applicable\n",
    "- Ramp, phaseshift and DC offset applicable\n",
    "- Rectangular, duty-cycle, phaseshift and DC offset applicable\n",
    "- Gaussian Noise (fixed and random)"
   ]
  },
  {
   "cell_type": "code",
   "execution_count": null,
   "metadata": {},
   "outputs": [],
   "source": [
    "# create a simple sinewave on channel 13\n",
    "DAC.send_command(\"13 off\")\n",
    "DAC.send_command(\"c awg-c stop\")\n",
    "\n",
    "while DAC.expect_query_answer(\"c awg-c ava?\", \"0\"): # wait for availability of awg-c \n",
    "    pass\n",
    "\n",
    "DAC.send_command(\"c awg-c ch 13\") # select channel for awg\n",
    "DAC.send_command(\"c swg mode 0\") # generate new waveform\n",
    "DAC.send_command(\"c swg wf 0\") # choose waveform (0 = sine)\n",
    "# further properties of waveform could be specified here, i.e. amplitude, offset or phase\n",
    "DAC.send_command(\"c swg wmem 2\") # select wave-memory to save the generated waveform into\n",
    "DAC.send_command(\"c awg-c cs 0\") # set number of cycles (0 = infinite cycles)\n",
    "DAC.send_command(\"c swg wfun 0\") # generated waveform will be copied to the selected wave-memory\n",
    "DAC.send_command(\"c swg apply\") # apply all changes to wave-memory now\n",
    "DAC.send_command(\"c wav-c write\") # write content of wave-memory into awg memory\n",
    "\n",
    "print(\"writing to memory ...\", end=\"\")\n",
    "while DAC.expect_query_answer(\"c wav-c busy?\", \"1\"): # wait until waveform is written into awg memory\n",
    "    print(\".\", end=\"\")\n",
    "\n",
    "DAC.send_command(\"c awg-c start\") # start awg\n",
    "DAC.send_command(\"13 on\") #turn channel on"
   ]
  },
  {
   "cell_type": "markdown",
   "metadata": {},
   "source": [
    "## 4 - create a custom waveform using mathematical functions\n",
    "A completely arbitrary waveform can also be defined and stored into the LNHR DAC II memory. Limiting factors are the maximum memory size of 34000 points, the maximum update rate of 100 kHz (10 us) an d the set bandwidth."
   ]
  },
  {
   "cell_type": "code",
   "execution_count": null,
   "metadata": {},
   "outputs": [],
   "source": [
    "# create a custom waveform on channel 17\n",
    "DAC.send_command(\"17 off\")\n",
    "DAC.send_command(\"c awg-d stop\")\n",
    "\n",
    "while DAC.expect_query_answer(\"c awg-d ava?\", \"0\"): # wait for availability of awg-c \n",
    "    pass\n",
    "\n",
    "DAC.send_command(\"c awg-d ch 17\") # select channel for awg\n",
    "DAC.send_command(\"c awg-d cs 0\") # set number of cycles (0 = infinite cycles)\n",
    "DAC.send_command(\"c wav-d clr\") # clear wavememory\n",
    "\n",
    "print(\"generating waveform ...\", end=\"\")\n",
    "for x in range(0, 34000):\n",
    "     y = 3*sin(x/200) + 2*cos(0.03*x) + (8/7)*sin(x/100) + 3.7*cos(x/10000) # generating arbitrary curve\n",
    "     DAC.send_command(f\"wav-a {x:x} {y:.6f}\", hold_connection=True) # transmitting datapoints as voltage to DAC\n",
    "     if x % 100 == 0: print(\".\", end=\"\")\n",
    "print(\"\\n\")\n",
    "\n",
    "DAC.send_command(\"c wav-d write\") # write content of wave-memory into awg memory\n",
    "\n",
    "print(\"writing to memory ...\", end=\"\")\n",
    "while DAC.expect_query_answer(\"c wav-c busy?\", \"1\"): # wait until waveform is written into awg memory\n",
    "    print(\".\", end=\"\")\n",
    "\n",
    "DAC.send_command(\"c awg-cd cp 1000\") # set clock period, this might interfere with other awg's\n",
    "DAC.send_command(\"c awg-d start\") # start awg\n",
    "DAC.send_command(\"17 on\") #turn channel on"
   ]
  }
 ],
 "metadata": {
  "kernelspec": {
   "display_name": "Python 3",
   "language": "python",
   "name": "python3"
  },
  "language_info": {
   "codemirror_mode": {
    "name": "ipython",
    "version": 3
   },
   "file_extension": ".py",
   "mimetype": "text/x-python",
   "name": "python",
   "nbconvert_exporter": "python",
   "pygments_lexer": "ipython3",
   "version": "3.12.3"
  }
 },
 "nbformat": 4,
 "nbformat_minor": 2
}
